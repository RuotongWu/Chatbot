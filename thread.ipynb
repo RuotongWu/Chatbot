{
 "cells": [
  {
   "cell_type": "code",
   "execution_count": 14,
   "metadata": {},
   "outputs": [],
   "source": [
    "from threading import Thread\n",
    "from queue import Queue"
   ]
  },
  {
   "cell_type": "code",
   "execution_count": 19,
   "metadata": {},
   "outputs": [],
   "source": [
    "class ThreadGen(object):\n",
    "    def __init__(self , iterator , sentinel=object() , queue_maxsize = 0 , daemon = False):\n",
    "        self._iterator = iterator\n",
    "        self._sentinel = sentinel\n",
    "        self._queue = Queue(maxsize = queue_maxsize)\n",
    "        self._thread = Thread(name = repr(iterator) , target = self._run)\n",
    "        self._thread.daemon = daemon\n",
    "        self._started = False\n",
    "        \n",
    "    def __repr__(self):\n",
    "        return 'ThreadGen({!r)'.format(self._iterator)\n",
    "    \n",
    "    def _run(self):\n",
    "        try:\n",
    "            for value in self._iterator:\n",
    "                if not self._started:\n",
    "                    return\n",
    "                self._queue.put(value)\n",
    "        finally:\n",
    "            self._queue.put(self._sentinel)\n",
    "            \n",
    "    def close(self):\n",
    "        self._started = False\n",
    "        try:\n",
    "            while True:\n",
    "                self._queue.get(timeout = 30)\n",
    "        except KeyboardInterrupt as e:\n",
    "            raise e\n",
    "        except:\n",
    "            pass\n",
    "        \n",
    "    def __iter__(self):\n",
    "        self._started = True\n",
    "        self._thread.start()\n",
    "        for value in iter(self._queue.get, self._sentinel):\n",
    "            yield value\n",
    "        self._thread.join()\n",
    "        self._started = False\n",
    "\n",
    "    def __next__(self):\n",
    "        if not self._started:\n",
    "            self._started = True\n",
    "            self._thread.start()\n",
    "        value = self._queue.get(timeout=30)\n",
    "        if value == self._sentinel:\n",
    "            raise StopIteration()\n",
    "        return value                             "
   ]
  },
  {
   "cell_type": "code",
   "execution_count": 21,
   "metadata": {},
   "outputs": [
    {
     "name": "stdout",
     "output_type": "stream",
     "text": [
      "0\n",
      "1\n",
      "2\n",
      "3\n",
      "4\n",
      "5\n",
      "6\n",
      "7\n",
      "8\n",
      "9\n"
     ]
    }
   ],
   "source": [
    "def test():\n",
    "\n",
    "    def gene():\n",
    "        i = 0\n",
    "        while True:\n",
    "            yield i\n",
    "            i += 1\n",
    "\n",
    "    t = gene()\n",
    "    test = ThreadGen(t)\n",
    "\n",
    "    for _ in range(10):\n",
    "        print(next(test))\n",
    "\n",
    "    test.close()\n",
    "        \n",
    "test()"
   ]
  },
  {
   "cell_type": "code",
   "execution_count": null,
   "metadata": {},
   "outputs": [],
   "source": []
  }
 ],
 "metadata": {
  "kernelspec": {
   "display_name": "chatbot",
   "language": "python",
   "name": "chatbot"
  },
  "language_info": {
   "codemirror_mode": {
    "name": "ipython",
    "version": 3
   },
   "file_extension": ".py",
   "mimetype": "text/x-python",
   "name": "python",
   "nbconvert_exporter": "python",
   "pygments_lexer": "ipython3",
   "version": "3.6.8"
  }
 },
 "nbformat": 4,
 "nbformat_minor": 2
}
