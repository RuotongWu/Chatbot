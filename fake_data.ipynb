{
 "cells": [
  {
   "cell_type": "code",
   "execution_count": 9,
   "metadata": {},
   "outputs": [],
   "source": [
    "import import_ipynb\n",
    "import random\n",
    "import numpy as np\n",
    "from word_sequence import WordSequence"
   ]
  },
  {
   "cell_type": "code",
   "execution_count": 27,
   "metadata": {},
   "outputs": [],
   "source": [
    "def generate(max_len=10, size=1000, same_len=False, seed=0):\n",
    "\n",
    "    dictionary = {\n",
    "        'a': '1',\n",
    "        'b': '2',\n",
    "        'c': '3',\n",
    "        'd': '4',\n",
    "        'aa': '1',\n",
    "        'bb': '2',\n",
    "        'cc': '3',\n",
    "        'dd': '4',\n",
    "        'aaa': '1',\n",
    "    }\n",
    "\n",
    "    if seed is not None:\n",
    "        random.seed(seed)\n",
    "\n",
    "    input_list = sorted(list(dictionary.keys()))\n",
    "\n",
    "    x_data = []\n",
    "    y_data = []\n",
    "\n",
    "    for x in range(size):\n",
    "        a_len = int(random.random() * max_len) + 1\n",
    "        x = []\n",
    "        y = []\n",
    "        for _ in range(a_len):\n",
    "            word = input_list[int(random.random() * len(input_list))]\n",
    "            x.append(word)\n",
    "            y.append(dictionary[word])\n",
    "            if not same_len:\n",
    "                if y[-1] == '2':\n",
    "                    y.append('2')\n",
    "                elif y[-1] == '3':\n",
    "                    y.append('3')\n",
    "                    y.append('4')\n",
    "        x_data.append(x)\n",
    "        y_data.append(y)\n",
    "\n",
    "    ws_input = WordSequence()\n",
    "    x_data = [\" \".join(item) for item in x_data ]\n",
    "    #print(x_data)\n",
    "    ws_input.fit(x_data)\n",
    "\n",
    "    ws_target = WordSequence()\n",
    "    y_data = [\" \".join(item) for item in y_data]\n",
    "    #print(y_data)\n",
    "    ws_target.fit(y_data)\n",
    "    return x_data, y_data, ws_input, ws_target"
   ]
  },
  {
   "cell_type": "code",
   "execution_count": 38,
   "metadata": {},
   "outputs": [],
   "source": [
    "def test():\n",
    "    x_data, y_data, ws_input, ws_target = generate()\n",
    "    print(len(x_data))\n",
    "    assert len(x_data) == 1000\n",
    "    print(len(y_data))\n",
    "    assert len(y_data) == 1000\n",
    "    print(np.max([len(x.strip().split(\" \")) for x in x_data]))\n",
    "    assert np.max([len(x.strip().split(\" \")) for x in x_data]) == 10\n",
    "    print(len(ws_input))\n",
    "    assert len(ws_input) == 14\n",
    "    print(len(ws_target))"
   ]
  },
  {
   "cell_type": "code",
   "execution_count": 39,
   "metadata": {},
   "outputs": [
    {
     "name": "stdout",
     "output_type": "stream",
     "text": [
      "1000\n",
      "1000\n",
      "10\n",
      "14\n",
      "9\n"
     ]
    }
   ],
   "source": [
    "test()"
   ]
  },
  {
   "cell_type": "code",
   "execution_count": null,
   "metadata": {},
   "outputs": [],
   "source": []
  },
  {
   "cell_type": "code",
   "execution_count": null,
   "metadata": {},
   "outputs": [],
   "source": []
  }
 ],
 "metadata": {
  "kernelspec": {
   "display_name": "chatbotkernel",
   "language": "python",
   "name": "chatbotkernel"
  },
  "language_info": {
   "codemirror_mode": {
    "name": "ipython",
    "version": 3
   },
   "file_extension": ".py",
   "mimetype": "text/x-python",
   "name": "python",
   "nbconvert_exporter": "python",
   "pygments_lexer": "ipython3",
   "version": "3.6.8"
  }
 },
 "nbformat": 4,
 "nbformat_minor": 2
}
