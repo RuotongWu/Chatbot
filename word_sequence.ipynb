{
 "cells": [
  {
   "cell_type": "code",
   "execution_count": null,
   "metadata": {},
   "outputs": [],
   "source": [
    "import numpy as np"
   ]
  },
  {
   "cell_type": "code",
   "execution_count": null,
   "metadata": {},
   "outputs": [],
   "source": [
    "class WordSequence(object):\n",
    "    PAD_TAG = '<pad>'\n",
    "    UNK_TAG = '<unk>'\n",
    "    START_TAG = '<s>'\n",
    "    END_TAG = '</s>'\n",
    "    \n",
    "    PAD = 0\n",
    "    UNK = 1\n",
    "    START = 2\n",
    "    END = 3\n",
    "    \n",
    "    \n",
    "    def __int__(self):\n",
    "        self.dict = {\n",
    "            WordSequence.PAD_TAG: WordSequence.PAD,\n",
    "            WordSequence.UNK_TAG: WordSequence.UNK,\n",
    "            WordSequence.START_TAG: WordSequence.START,\n",
    "            WordSequence.END_TAG: WordSequence.END,\n",
    "        }\n",
    "        self.fited = False\n",
    "        \n",
    "    def to_index(self,word):\n",
    "        assert self.fited, \"Please fit the WordSequence instance first.\"\n",
    "        if word in self.dict:\n",
    "            return self.dict[word]\n",
    "        return WordSequence.UNK\n",
    "    \n",
    "    def to_word(self, index):\n",
    "        assert self.fited, \"Please fit the WordSequence instance first.\"\n",
    "        for k, v in self.dict.items():\n",
    "            if v == index:\n",
    "                return k\n",
    "        return WordSequence.UNK_TAG\n",
    "    \n",
    "    def size(self):\n",
    "        assert self.fited, \"Please fit the WordSequence instance first.\"\n",
    "        return len(self.dict) + 1\n",
    "    \n",
    "    def __len__(self):\n",
    "        return self.size()\n",
    "    \n",
    "    # TODO maybe use tf-idf to determine which word is not necessary is better?\n",
    "    def fit(self,sentences, min_count = 5, max_count = None, max_feature_None):\n",
    "        assert not self.fited, \"You can only fit the instance once.\""
   ]
  }
 ],
 "metadata": {
  "kernelspec": {
   "display_name": "chatbot",
   "language": "python",
   "name": "chatbot"
  },
  "language_info": {
   "codemirror_mode": {
    "name": "ipython",
    "version": 3
   },
   "file_extension": ".py",
   "mimetype": "text/x-python",
   "name": "python",
   "nbconvert_exporter": "python",
   "pygments_lexer": "ipython3",
   "version": "3.7.1"
  }
 },
 "nbformat": 4,
 "nbformat_minor": 2
}
