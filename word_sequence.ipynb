{
 "cells": [
  {
   "cell_type": "code",
   "execution_count": 28,
   "metadata": {},
   "outputs": [],
   "source": [
    "import numpy as np"
   ]
  },
  {
   "cell_type": "code",
   "execution_count": 29,
   "metadata": {},
   "outputs": [],
   "source": [
    "class WordSequence(object):\n",
    "    PAD_TAG = '<pad>'\n",
    "    UNK_TAG = '<unk>'\n",
    "    START_TAG = '<s>'\n",
    "    END_TAG = '</s>'\n",
    "    \n",
    "    PAD = 0\n",
    "    UNK = 1\n",
    "    START = 2\n",
    "    END = 3\n",
    "    \n",
    "    \n",
    "    def __init__(self):\n",
    "        self.dict = {\n",
    "            WordSequence.PAD_TAG: WordSequence.PAD,\n",
    "            WordSequence.UNK_TAG: WordSequence.UNK,\n",
    "            WordSequence.START_TAG: WordSequence.START,\n",
    "            WordSequence.END_TAG: WordSequence.END,\n",
    "        }\n",
    "        self.fited = False\n",
    "        \n",
    "    def to_index(self,word):\n",
    "        assert self.fited, \"Please fit the WordSequence instance first.\"\n",
    "        if word in self.dict:\n",
    "            return self.dict[word]\n",
    "        return WordSequence.UNK\n",
    "    \n",
    "    def to_word(self, index):\n",
    "        assert self.fited, \"Please fit the WordSequence instance first.\"\n",
    "        for k, v in self.dict.items():\n",
    "            if v == index:\n",
    "                return k\n",
    "        return WordSequence.UNK_TAG\n",
    "    \n",
    "    def size(self):\n",
    "        assert self.fited, \"Please fit the WordSequence instance first.\"\n",
    "        return len(self.dict) + 1\n",
    "    \n",
    "    def __len__(self):\n",
    "        return self.size()\n",
    "    \n",
    "    # TODO maybe use tf-idf to determine which word is not necessary is better?\n",
    "    # the sentences should be a list of sentences\n",
    "    def fit(self,sentences, min_count = 5, max_count = None, max_feature=None):\n",
    "        assert not self.fited, \"You can only fit the instance once.\"\n",
    "        \n",
    "        count = {}\n",
    "        \n",
    "        for sentence in sentences:\n",
    "            words = sentence.strip().split(\" \")\n",
    "            for word in words:\n",
    "                if word not in count:\n",
    "                    count[word] = 0\n",
    "                count[word] += 1\n",
    "        if min_count is not None:\n",
    "            count = {k:v for k,v in count.items() if v>=min_count}\n",
    "            \n",
    "        if max_count is not None:\n",
    "            count = {k:v for k,v in count.items() if v<=max_count}\n",
    "            \n",
    "        self.dict = {\n",
    "            WordSequence.PAD_TAG: WordSequence.PAD,\n",
    "            WordSequence.UNK_TAG: WordSequence.UNK,\n",
    "            WordSequence.START_TAG: WordSequence.START,\n",
    "            WordSequence.END_TAG: WordSequence.END,           \n",
    "        }\n",
    "        \n",
    "        if isinstance(max_feature, int):\n",
    "            count = sorted(list(count.items(),key = lambda x:x[1]))\n",
    "            if mx_features is not None and len(count) > max_features:\n",
    "                count = count[-int(max_features):]\n",
    "            for w, _ in count:\n",
    "                self.dict[w] = len(self.dict)\n",
    "        else: \n",
    "            for w in sorted(count.keys()):\n",
    "                self.dict[w] = len(self.dict)\n",
    "        self.fited = True\n",
    "    #input should be a string\n",
    "    def transform(self, sentence, max_len = None):\n",
    "        assert self.fited, \"Please fit the WordSequence instance first.\"\n",
    "        if max_len is not None:\n",
    "            r = [self.PAD] * max_len\n",
    "        else:\n",
    "            r = [self.PAD] * len(sentence.strip().split(\" \"))\n",
    "            \n",
    "        for index, word in enumerate(sentence.strip().split(\" \")):\n",
    "            if max_len is not None and index >=len(r):\n",
    "                break\n",
    "            r[index] = self.to_index(word)\n",
    "        \n",
    "        return np.array(r)\n",
    "    \n",
    "    \n",
    "    def inverse_transform(self, indices,\n",
    "                          ignore_pad=False, ignore_unk=False,\n",
    "                          ignore_start=False, igonre_end=False):\n",
    "        ret = []\n",
    "        for i in indices:\n",
    "            word = self.to_word(i)\n",
    "            if word == WordSequence.PAD_TAG and ignore_pad:\n",
    "                continue\n",
    "            if word == WordSequence.UNK_TAG and ignore_unk:\n",
    "                continue\n",
    "            if word == WordSequence.START_TAG and ignore_start:\n",
    "                continue\n",
    "            if word == WordSequence.END_TAG and igonre_end:\n",
    "                continue\n",
    "            ret.append(word)\n",
    "\n",
    "        return ret\n",
    "    \n",
    "    "
   ]
  },
  {
   "cell_type": "code",
   "execution_count": 12,
   "metadata": {},
   "outputs": [
    {
     "data": {
      "text/plain": [
       "['Hello', 'World']"
      ]
     },
     "execution_count": 12,
     "metadata": {},
     "output_type": "execute_result"
    }
   ],
   "source": [
    "string = \"Hello World\"\n",
    "a = string.strip().split(\" \")\n",
    "a"
   ]
  },
  {
   "cell_type": "code",
   "execution_count": 36,
   "metadata": {},
   "outputs": [],
   "source": [
    "def test():\n",
    "    ws = WordSequence()\n",
    "    ws.fit([\n",
    "    \"Hello World! This is a sample sentence\",\n",
    "    \"This is a test sentence, yeah!\"],min_count = 0)\n",
    "    \n",
    "    indice = ws.transform(\"Hello GWU, the result is not defined\")\n",
    "    print(indice)\n",
    "    \n",
    "    back = ws.inverse_transform(indice)\n",
    "    print(back)"
   ]
  },
  {
   "cell_type": "code",
   "execution_count": 37,
   "metadata": {},
   "outputs": [
    {
     "name": "stdout",
     "output_type": "stream",
     "text": [
      "[4 1 1 1 8 1 1]\n",
      "['Hello', '<unk>', '<unk>', '<unk>', 'is', '<unk>', '<unk>']\n"
     ]
    }
   ],
   "source": [
    "if __name__ == '__main__':\n",
    "    test()"
   ]
  },
  {
   "cell_type": "code",
   "execution_count": null,
   "metadata": {},
   "outputs": [],
   "source": []
  }
 ],
 "metadata": {
  "kernelspec": {
   "display_name": "Python 3",
   "language": "python",
   "name": "python3"
  },
  "language_info": {
   "codemirror_mode": {
    "name": "ipython",
    "version": 3
   },
   "file_extension": ".py",
   "mimetype": "text/x-python",
   "name": "python",
   "nbconvert_exporter": "python",
   "pygments_lexer": "ipython3",
   "version": "3.6.8"
  }
 },
 "nbformat": 4,
 "nbformat_minor": 2
}
